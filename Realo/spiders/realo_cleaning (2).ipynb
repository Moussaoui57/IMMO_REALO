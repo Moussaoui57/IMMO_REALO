{
 "cells": [
  {
   "cell_type": "code",
   "execution_count": 9,
   "metadata": {},
   "outputs": [
    {
     "data": {
      "text/plain": [
       "26371"
      ]
     },
     "execution_count": 9,
     "metadata": {},
     "output_type": "execute_result"
    }
   ],
   "source": [
    "import pandas\n",
    "dat = pandas.read_csv('Realo_07_2021_2.csv', sep=';' ,low_memory=False,dtype = object)\n",
    "len(dat)"
   ]
  },
  {
   "cell_type": "code",
   "execution_count": 2,
   "metadata": {},
   "outputs": [
    {
     "data": {
      "text/plain": [
       "[nan,\n",
       " 'Logement à louer',\n",
       " 'Divers récemment vendu',\n",
       " 'Appartement vendu récemment',\n",
       " 'Immeuble de rapport à vendre',\n",
       " 'Pas à vendre ni à louer via Realo',\n",
       " 'Terrain à louer',\n",
       " 'Bureau à vendre',\n",
       " 'Logement à vendre',\n",
       " 'Commerce à vendre',\n",
       " 'Immeuble à unités multiples',\n",
       " 'Immeuble comportant plusieurs logements',\n",
       " 'Appartement à vendre',\n",
       " 'Commerce à louer',\n",
       " 'Appartement à louer',\n",
       " 'Maison à louer',\n",
       " 'Maison vendue récemment',\n",
       " 'Divers à louer',\n",
       " 'Maison à vendre',\n",
       " 'Divers à vendre',\n",
       " 'Maison de vacances à vendre',\n",
       " 'Projet de construction',\n",
       " 'Garage à louer',\n",
       " 'Bâtiment industriel à vendre',\n",
       " 'Terrain à vendre',\n",
       " 'Bâtiment industriel à louer',\n",
       " 'Garage à vendre',\n",
       " 'Bureau à louer',\n",
       " 'Immeuble de rapport à louer']"
      ]
     },
     "execution_count": 2,
     "metadata": {},
     "output_type": "execute_result"
    }
   ],
   "source": [
    "list(set(dat[\"NOM\"]))"
   ]
  },
  {
   "cell_type": "code",
   "execution_count": 10,
   "metadata": {},
   "outputs": [
    {
     "data": {
      "text/plain": [
       "3312"
      ]
     },
     "execution_count": 10,
     "metadata": {},
     "output_type": "execute_result"
    }
   ],
   "source": [
    "Immeuble = []\n",
    "for i in range(0,len(dat)):\n",
    "    if i in dat.index:\n",
    "        if (\"Immeuble comportant plusieurs logements\") in str(dat.loc[i,\"NOM\"]) or (\"Immeuble à unités multiples\") in str(dat.loc[i,\"NOM\"]) :\n",
    "            Immeuble.append(dat.loc[i,\"ANNONCE_LINK\"])\n",
    "            \n",
    "with open('Immeuble.txt', 'w') as filehandle:\n",
    "    for i in Immeuble:\n",
    "        filehandle.write('%s\\n' % i)\n",
    "        \n",
    "len(Immeuble)"
   ]
  },
  {
   "cell_type": "code",
   "execution_count": 11,
   "metadata": {},
   "outputs": [
    {
     "data": {
      "text/plain": [
       "1708"
      ]
     },
     "execution_count": 11,
     "metadata": {},
     "output_type": "execute_result"
    }
   ],
   "source": [
    "Projet = []\n",
    "for i in range(0,len(dat)):\n",
    "    if i in dat.index:\n",
    "        if (\"Projet de construction\") in str(dat.loc[i,\"NOM\"]) :\n",
    "            Projet.append(dat.loc[i,\"ANNONCE_LINK\"])\n",
    "            \n",
    "with open('Projet.txt', 'w') as filehandle:\n",
    "    for i in Projet:\n",
    "        filehandle.write('%s\\n' % i)\n",
    "len(Projet)"
   ]
  },
  {
   "cell_type": "code",
   "execution_count": 12,
   "metadata": {},
   "outputs": [
    {
     "data": {
      "text/plain": [
       "21239"
      ]
     },
     "execution_count": 12,
     "metadata": {},
     "output_type": "execute_result"
    }
   ],
   "source": [
    "list_name = ['Garage à louer',\n",
    " 'Terrain à vendre',\n",
    " 'Appartement à vendre',\n",
    " 'Bâtiment industriel à louer',\n",
    " 'Bureau à vendre',\n",
    " 'Bâtiment industriel à vendre',\n",
    " 'Divers à vendre',\n",
    " 'Terrain à louer',\n",
    " 'Garage à vendre',\n",
    " 'Appartement à louer',\n",
    " 'Bureau à louer',\n",
    " 'Maison de vacances à vendre',\n",
    " 'Maison à vendre',\n",
    " 'Logement à louer',\n",
    " 'Commerce à vendre',\n",
    " 'Divers à louer',\n",
    " 'Logement à vendre',\n",
    " 'Commerce à louer',\n",
    " 'Maison à louer',\n",
    " 'Immeuble de rapport à vendre',\n",
    " 'Immeuble de rapport à louer']\n",
    "Listing = []\n",
    "\n",
    "for i in range(0,len(dat)):\n",
    "    if i in dat.index:\n",
    "        if str(dat.loc[i,\"NOM\"]) in list_name:\n",
    "            Listing.append(dat.loc[i,\"ANNONCE_LINK\"])\n",
    "            \n",
    "with open('Listing.txt', 'w') as filehandle:\n",
    "    for i in Listing:\n",
    "        filehandle.write('%s\\n' % i)\n",
    "len(Listing)"
   ]
  },
  {
   "cell_type": "code",
   "execution_count": null,
   "metadata": {},
   "outputs": [],
   "source": [
    "********************************"
   ]
  },
  {
   "cell_type": "code",
   "execution_count": null,
   "metadata": {},
   "outputs": [],
   "source": []
  },
  {
   "cell_type": "code",
   "execution_count": null,
   "metadata": {},
   "outputs": [],
   "source": []
  },
  {
   "cell_type": "code",
   "execution_count": null,
   "metadata": {},
   "outputs": [],
   "source": []
  }
 ],
 "metadata": {
  "kernelspec": {
   "display_name": "Python 3",
   "language": "python",
   "name": "python3"
  },
  "language_info": {
   "codemirror_mode": {
    "name": "ipython",
    "version": 3
   },
   "file_extension": ".py",
   "mimetype": "text/x-python",
   "name": "python",
   "nbconvert_exporter": "python",
   "pygments_lexer": "ipython3",
   "version": "3.5.2"
  }
 },
 "nbformat": 4,
 "nbformat_minor": 5
}
